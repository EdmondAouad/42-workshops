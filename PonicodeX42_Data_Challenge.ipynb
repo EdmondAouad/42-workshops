{
  "nbformat": 4,
  "nbformat_minor": 0,
  "metadata": {
    "kernelspec": {
      "display_name": "Python 3",
      "language": "python",
      "name": "python3"
    },
    "language_info": {
      "codemirror_mode": {
        "name": "ipython",
        "version": 3
      },
      "file_extension": ".py",
      "mimetype": "text/x-python",
      "name": "python",
      "nbconvert_exporter": "python",
      "pygments_lexer": "ipython3",
      "version": "3.7.3"
    },
    "colab": {
      "name": "PonicodeX42 - Data Challenge.ipynb",
      "provenance": [],
      "collapsed_sections": [],
      "toc_visible": true
    }
  },
  "cells": [
    {
      "cell_type": "markdown",
      "metadata": {
        "id": "6M0SqHzp4MBx"
      },
      "source": [
        "**<center style=\"font-size:26px\">Ponicode X 42 - Data Challenge</center>**"
      ]
    },
    {
      "cell_type": "markdown",
      "metadata": {
        "id": "72P5-CI24MB0"
      },
      "source": [
        "# Introduction"
      ]
    },
    {
      "cell_type": "markdown",
      "metadata": {
        "id": "Sm272jmwdram"
      },
      "source": [
        "## Challenge description"
      ]
    },
    {
      "cell_type": "markdown",
      "metadata": {
        "id": "xtz7vn8qdrav"
      },
      "source": [
        "Hello everyone! Glad you make it here. Today's challenge is brought to you by [Ponicode](https://ponicode.com). \n",
        "\n",
        "This AI on Code challenge expects you to find the best Machine Learning model/pipeline to predict JavaScript function basic argument typing: `String`, `Boolean`, `Number`, `Array`, `Object`, `Function`\n",
        "\n",
        "**Task:**\n",
        "\n",
        "You'll be provided function codes, argument names and labels associated to these arguments. Your task is to create a machine learning model that will give as output the expected argument type.\n",
        "\n",
        "Exemple:\n",
        "_Given the following function, estimate the most relevant type for the `mail` argument_\n",
        "```js\n",
        "function dummyIsEmailValid(mail){\n",
        "    return mail.endsWith('.com') && mail.includes('@')\n",
        "}\n",
        "```\n",
        "\n",
        "Your model would be right to output `mail` is a `String`\n",
        "\n",
        "\n",
        "**Dataset description**:\n",
        "We'll provide a structured Dataset to train your pipelines. This dataset contains **4 string columns**:\n",
        "- `id`\n",
        "- `function_code`\n",
        "- `argument_name`\n",
        "- `argument_type`\n",
        "\n",
        "Given a `function_code` and an `argument_name` your ML pipeline should output the `argument_type`.\n",
        "\n",
        "\n",
        "\n",
        "|   | function_code                                                                                      | argument_name | argument_type |\n",
        "|---|----------------------------------------------------------------------------------------------------|---------------|---------------|\n",
        "| 0 | \"\"\"function dummyIsEmailValid(mail){\\n    return mail.endsWith('.com') && mail.includes('@')\\n}\"\"\" | mail          | string        |\n",
        "\n",
        "You'll be provided two files. `train_set.csv` & `test_set.csv`. The train set contains all 3 columns mentioned above and the test set will miss the `argument_type` one. Your model will output this columns.\n",
        "\n",
        "\n",
        "If you have not downloaded the data for the challenge yet you can find it [HERE](https://bit.ly/Ponicode42-ChallengeData)"
      ]
    },
    {
      "cell_type": "markdown",
      "metadata": {
        "id": "3_pPaucp4MB2"
      },
      "source": [
        "## Rules of challenge"
      ]
    },
    {
      "cell_type": "markdown",
      "metadata": {
        "id": "u7FRcCOF4MB4"
      },
      "source": [
        "**Can we work in groups?** You can do it by yourself or by group of 2 (binôme)\n",
        "\n",
        "**How do we submit our work?**\n",
        "- Download your results under **firstname_lastname.csv** and your notebook under **firstname_lastname.ipynb** (copy of your google colab file)\n",
        "- Go on Ponicode’s Slack Community and open a conversation with Edmond\n",
        "- Send to Edmond your csv **and** your ipynb files\n",
        "- If you are in groups of two, open a grouped conversation with Edmond and send your group files **firstname1_fistname2_lastname1_lastname2.csv** and .**ipynb**\n",
        "\n",
        "**When the winner will be announced?** Monday November 30th\n",
        "\n",
        "**Where the winner will be announced?** By slack and email\n",
        "\n",
        "**Can we ask support if we have questions for the challenge?** Yes from 16:00 to 20:00 on Saturday 21th November and from 17:00 to 18:00 on Sunday 22th November on Ponicode’s Community slack. Send your questions to Edmond\n",
        "\n",
        "**On which creteria will the winner be based on?** On the f1-score of your results. The f1-score is described in detail in the test and later in these slides\n",
        "\n",
        "**Where do we download the data from?** The data to use for the challenge is available here https://bit.ly/Ponicode42-ChallengeData\n",
        "\n"
      ]
    },
    {
      "cell_type": "markdown",
      "metadata": {
        "id": "5ef5ia124MB6"
      },
      "source": [
        "## Expected Output"
      ]
    },
    {
      "cell_type": "markdown",
      "metadata": {
        "id": "9HrvKpu94MB8"
      },
      "source": [
        "As an output we'd like to have the following notebook with your complete functioning workflow and a result file on the Test set as a `.csv`\n",
        "\n",
        "Your file should incorporate four columns: \n",
        "- `id`: Row identifier of the test set sample\n",
        "- `argument_type`: Predicted type in [`string`, `boolean`, `number`, `array`, `object`, `function`]\n",
        "- `full_name`: Your full name, ex 'Jean Dupont'\n",
        "- `email`: Your email, ex 'jean.dupont@gmailcom'\n",
        "\n",
        "**Your results will be rated on the f1-score macro avg. Below in the code, we will show you how to access this score**\n",
        "\n",
        "\n"
      ]
    },
    {
      "cell_type": "markdown",
      "metadata": {
        "id": "cHp9Sba2x0Af"
      },
      "source": [
        "# Pipeline example to resolve the challenge\n",
        "Below is a solution to the challenge. This solution is just an example of how to solve the challenge and you are free to take a completely different approach. Do not hesitate to use other features, vectorizers and models than in the example to reach better results\n",
        "- **Step1: Open your data** (do not forget to upload the train and test csvs on the left pannel)\n",
        "- **Step2: Features engineering**. We use `argument_name`, `function_code` and a `dummy_feature` (created in the code below) as features. This step is **key**. If you want to beat the performance of this pipeline you will have to create better feature(s) than the `dummy_feature`\n",
        "- **Step3: Vectorize Features**. The machine learning models are mathematical models. For our model to train, we have to transform our features, which are in a text format, into numerical vectors. We will use the `TfidfVectorizer`, but other methods can work better!\n",
        "- **Step4: Train and test your model**. In this step we will train our model on our vector and test its performances. We use a `KNeighborsClassifier` as a classifier but other models will definitely work better! Than we test our model on a subset of our dataset to see the performance of the model\n",
        "- **Step5: Submit dataset**. In this step we use the trained model to make predictions on the dataset to be submitted. Do not forget to input your name and email as shown in the example"
      ]
    },
    {
      "cell_type": "markdown",
      "metadata": {
        "id": "6iLkLGfI4MCD"
      },
      "source": [
        "# Setup"
      ]
    },
    {
      "cell_type": "markdown",
      "metadata": {
        "id": "0C0EZETfQjGu"
      },
      "source": [
        "#### In the whole exercice we will use the famous pandas librairy for datasets manipulation. [Here is some documentation on how to use it ](https://pandas.pydata.org/docs/). Do not hesitate to click on this doc if at some point the functions used below are too hard to understand."
      ]
    },
    {
      "cell_type": "markdown",
      "metadata": {
        "id": "W0skk7Cf4MCE"
      },
      "source": [
        "## Imports"
      ]
    },
    {
      "cell_type": "code",
      "metadata": {
        "id": "yKCM5VGI4MCF"
      },
      "source": [
        "import os\n",
        "import json\n",
        "import pandas as pd"
      ],
      "execution_count": null,
      "outputs": []
    },
    {
      "cell_type": "markdown",
      "metadata": {
        "id": "6SI_3kxo4MCO"
      },
      "source": [
        "## Function definition"
      ]
    },
    {
      "cell_type": "code",
      "metadata": {
        "id": "4Frb7NW84MCP"
      },
      "source": [
        "def open_set(path):\n",
        "    return pd.read_csv(path, sep=\",\")"
      ],
      "execution_count": null,
      "outputs": []
    },
    {
      "cell_type": "markdown",
      "metadata": {
        "id": "4LothAGs4MCV"
      },
      "source": [
        "# Main Code"
      ]
    },
    {
      "cell_type": "markdown",
      "metadata": {
        "id": "vDLMjlJn5JzM"
      },
      "source": [
        "## **Step 1:** Open your data. Don't forget to upload the data provided to you in your colab files (Pannel on the left)"
      ]
    },
    {
      "cell_type": "markdown",
      "metadata": {
        "id": "f7HSMP8f6Cpb"
      },
      "source": [
        "\n",
        "\n",
        "Load the training set to train your model\n"
      ]
    },
    {
      "cell_type": "code",
      "metadata": {
        "id": "gJ56WE784MCi"
      },
      "source": [
        "df_train = open_set('./train_set.csv')"
      ],
      "execution_count": null,
      "outputs": []
    },
    {
      "cell_type": "code",
      "metadata": {
        "id": "ncBLoEnd4MCn",
        "outputId": "3cffe2d0-a5cb-40ae-b97f-d8abb82c2624",
        "colab": {
          "base_uri": "https://localhost:8080/",
          "height": 206
        }
      },
      "source": [
        "df_train.head()"
      ],
      "execution_count": null,
      "outputs": [
        {
          "output_type": "execute_result",
          "data": {
            "text/html": [
              "<div>\n",
              "<style scoped>\n",
              "    .dataframe tbody tr th:only-of-type {\n",
              "        vertical-align: middle;\n",
              "    }\n",
              "\n",
              "    .dataframe tbody tr th {\n",
              "        vertical-align: top;\n",
              "    }\n",
              "\n",
              "    .dataframe thead th {\n",
              "        text-align: right;\n",
              "    }\n",
              "</style>\n",
              "<table border=\"1\" class=\"dataframe\">\n",
              "  <thead>\n",
              "    <tr style=\"text-align: right;\">\n",
              "      <th></th>\n",
              "      <th>id</th>\n",
              "      <th>function_code</th>\n",
              "      <th>argument_name</th>\n",
              "      <th>argument_type</th>\n",
              "    </tr>\n",
              "  </thead>\n",
              "  <tbody>\n",
              "    <tr>\n",
              "      <th>0</th>\n",
              "      <td>0</td>\n",
              "      <td>function register(type, compressMode, backfill...</td>\n",
              "      <td>backfillLast</td>\n",
              "      <td>boolean</td>\n",
              "    </tr>\n",
              "    <tr>\n",
              "      <th>1</th>\n",
              "      <td>1</td>\n",
              "      <td>function baseExtremum(array, iteratee, compara...</td>\n",
              "      <td>iteratee</td>\n",
              "      <td>function</td>\n",
              "    </tr>\n",
              "    <tr>\n",
              "      <th>2</th>\n",
              "      <td>2</td>\n",
              "      <td>function baseMergeDeep(object,source,key,srcIn...</td>\n",
              "      <td>key</td>\n",
              "      <td>string</td>\n",
              "    </tr>\n",
              "    <tr>\n",
              "      <th>3</th>\n",
              "      <td>3</td>\n",
              "      <td>function reorder(array, indexes) {\\n    var ar...</td>\n",
              "      <td>array</td>\n",
              "      <td>array</td>\n",
              "    </tr>\n",
              "    <tr>\n",
              "      <th>4</th>\n",
              "      <td>4</td>\n",
              "      <td>function diffHalfMatchI(longtext, shorttext, i...</td>\n",
              "      <td>i</td>\n",
              "      <td>number</td>\n",
              "    </tr>\n",
              "  </tbody>\n",
              "</table>\n",
              "</div>"
            ],
            "text/plain": [
              "   id  ... argument_type\n",
              "0   0  ...       boolean\n",
              "1   1  ...      function\n",
              "2   2  ...        string\n",
              "3   3  ...         array\n",
              "4   4  ...        number\n",
              "\n",
              "[5 rows x 4 columns]"
            ]
          },
          "metadata": {
            "tags": []
          },
          "execution_count": 4
        }
      ]
    },
    {
      "cell_type": "markdown",
      "metadata": {
        "id": "7dqylRTq70dh"
      },
      "source": [
        "## **Step2: Features engineering**\n"
      ]
    },
    {
      "cell_type": "markdown",
      "metadata": {
        "id": "UfYXwBex8AtY"
      },
      "source": [
        "For this example we will use the `function_code` and `argument_name` as features. We will also create a new feature, `dummy_feature` based on the token preceding the second occurence of the argument_name in the function code.\n",
        "For the example of \n",
        "```js\n",
        "function dummyIsEmailValid(mail){\n",
        "    return mail.endsWith('.com') && mail.includes('@')\n",
        "}\n",
        "```\n",
        "the `dummy_feature` would be `return`. The objective of features is to give us information that will be useful for the model to make good predictions. Here the feature is not super useful but you will easily find ways to captures more useful information.\n",
        "\n",
        "You can find smarter ways to access the information in the function by using a parser. However it is not necessary to have good performances"
      ]
    },
    {
      "cell_type": "code",
      "metadata": {
        "id": "AVF9Ax0J7zVH",
        "outputId": "45f93f55-ef1d-4f1d-cbc1-154bfd7f1477",
        "colab": {
          "base_uri": "https://localhost:8080/",
          "height": 35
        }
      },
      "source": [
        "def locate_indexes_argument(code_tokens, argument):\n",
        "  \"\"\"Get the indexes of all occurences of an argument in the code tokens\n",
        "  Example\n",
        "  Inputs: code_tokens:[\"function\", \"returnString\", \"(\", \"word\", \")\", \"{\", \"return\", \"word\", \"}\"] , argument: \"word\"\n",
        "  Output: [7]\n",
        "  \"\"\"\n",
        "  return [i for i,val in enumerate(code_tokens) if val==argument]\n",
        "\n",
        "def clean(function_code):\n",
        "  \"\"\"Removes \\n and \\t from the code and add spaces around special tokens\n",
        "  Example\n",
        "  Input: \"function returnString(word){\\n\\t return word}\"\n",
        "  Output: \"function returnString ( word ) { return word }\n",
        "  \"\"\"\n",
        "  to_clean = {\n",
        "      '\\n': ' ', \n",
        "      '\\t': ' ',\n",
        "      '(': ' ( ', \n",
        "      ')': ' ) ',\n",
        "      '[': ' [ ',\n",
        "      ']': ' ] ',\n",
        "      \"=\": ' = ',\n",
        "      \":\": ' : ', \n",
        "      \",\": ' , ',\n",
        "      \";\": ' ; ',\n",
        "      \"{\": \" { \",\n",
        "      \"}\": \" } \",\n",
        "      \".\": \" . \"\n",
        "      }\n",
        "  for s in to_clean:\n",
        "    function_code = function_code.replace(s, to_clean[s])\n",
        "  return function_code\n",
        "\n",
        "def get_dummy_feature(code, argument_name):\n",
        "  \"\"\"Get the token preceiding the second occurence of the argument_name\"\"\"\n",
        "  code = clean(code)\n",
        "  code_tokens = code.split(' ')\n",
        "  code_tokens = [token for token in code_tokens if token != ' ']\n",
        "  argument_indexes = locate_indexes_argument(code_tokens, argument_name)\n",
        "  if len(argument_indexes) >= 2:\n",
        "    index_of_second_apparition = argument_indexes[1]\n",
        "    return code_tokens[index_of_second_apparition-1]\n",
        "  else:\n",
        "    return ''\n",
        "\n",
        "get_dummy_feature(\n",
        "    \"\"\"\n",
        "function dummyIsEmailValid(mail){\n",
        "    return mail.endsWith('.com') && mail.includes('@')\n",
        "}\"\"\",\n",
        "'mail')"
      ],
      "execution_count": null,
      "outputs": [
        {
          "output_type": "execute_result",
          "data": {
            "application/vnd.google.colaboratory.intrinsic+json": {
              "type": "string"
            },
            "text/plain": [
              "'return'"
            ]
          },
          "metadata": {
            "tags": []
          },
          "execution_count": 5
        }
      ]
    },
    {
      "cell_type": "code",
      "metadata": {
        "id": "Fnf8lL6iGh7j"
      },
      "source": [
        "df_train['dummy_feature'] = df_train.apply(lambda row: get_dummy_feature(row['function_code'], row['argument_name']), axis=1)"
      ],
      "execution_count": null,
      "outputs": []
    },
    {
      "cell_type": "code",
      "metadata": {
        "id": "_iVGUTjBJLgP",
        "outputId": "501a1d01-7b25-4d1f-e481-4cbd012486a9",
        "colab": {
          "base_uri": "https://localhost:8080/",
          "height": 206
        }
      },
      "source": [
        "df_train.head()"
      ],
      "execution_count": null,
      "outputs": [
        {
          "output_type": "execute_result",
          "data": {
            "text/html": [
              "<div>\n",
              "<style scoped>\n",
              "    .dataframe tbody tr th:only-of-type {\n",
              "        vertical-align: middle;\n",
              "    }\n",
              "\n",
              "    .dataframe tbody tr th {\n",
              "        vertical-align: top;\n",
              "    }\n",
              "\n",
              "    .dataframe thead th {\n",
              "        text-align: right;\n",
              "    }\n",
              "</style>\n",
              "<table border=\"1\" class=\"dataframe\">\n",
              "  <thead>\n",
              "    <tr style=\"text-align: right;\">\n",
              "      <th></th>\n",
              "      <th>id</th>\n",
              "      <th>function_code</th>\n",
              "      <th>argument_name</th>\n",
              "      <th>argument_type</th>\n",
              "      <th>dummy_feature</th>\n",
              "    </tr>\n",
              "  </thead>\n",
              "  <tbody>\n",
              "    <tr>\n",
              "      <th>0</th>\n",
              "      <td>0</td>\n",
              "      <td>function register(type, compressMode, backfill...</td>\n",
              "      <td>backfillLast</td>\n",
              "      <td>boolean</td>\n",
              "      <td></td>\n",
              "    </tr>\n",
              "    <tr>\n",
              "      <th>1</th>\n",
              "      <td>1</td>\n",
              "      <td>function baseExtremum(array, iteratee, compara...</td>\n",
              "      <td>iteratee</td>\n",
              "      <td>function</td>\n",
              "      <td></td>\n",
              "    </tr>\n",
              "    <tr>\n",
              "      <th>2</th>\n",
              "      <td>2</td>\n",
              "      <td>function baseMergeDeep(object,source,key,srcIn...</td>\n",
              "      <td>key</td>\n",
              "      <td>string</td>\n",
              "      <td>,</td>\n",
              "    </tr>\n",
              "    <tr>\n",
              "      <th>3</th>\n",
              "      <td>3</td>\n",
              "      <td>function reorder(array, indexes) {\\n    var ar...</td>\n",
              "      <td>array</td>\n",
              "      <td>array</td>\n",
              "      <td></td>\n",
              "    </tr>\n",
              "    <tr>\n",
              "      <th>4</th>\n",
              "      <td>4</td>\n",
              "      <td>function diffHalfMatchI(longtext, shorttext, i...</td>\n",
              "      <td>i</td>\n",
              "      <td>number</td>\n",
              "      <td>position</td>\n",
              "    </tr>\n",
              "  </tbody>\n",
              "</table>\n",
              "</div>"
            ],
            "text/plain": [
              "   id  ... dummy_feature\n",
              "0   0  ...              \n",
              "1   1  ...              \n",
              "2   2  ...             ,\n",
              "3   3  ...              \n",
              "4   4  ...      position\n",
              "\n",
              "[5 rows x 5 columns]"
            ]
          },
          "metadata": {
            "tags": []
          },
          "execution_count": 7
        }
      ]
    },
    {
      "cell_type": "markdown",
      "metadata": {
        "id": "fBhygIyhY4YO"
      },
      "source": [
        "# **Step3: Vectorize Features**"
      ]
    },
    {
      "cell_type": "markdown",
      "metadata": {
        "id": "IqHCNJyHLCkr"
      },
      "source": [
        "The machine learning models are mathematical models. For our model to train, we have to transform our features, which are in a text format, into numerical vectors. We will use the `TfidfVectorizer`, but other methods can work better! You do not have to understand everything behind Tfidf maths to use it.\n",
        "Here we proceed like so:\n",
        "- We use a TfidfVectorizer character level. In information retrieval, tf–idf or TFIDF, short for term frequency–inverse document frequency, is a numerical statistic that is intended to reflect how important a word is to a document in a collection or corpus.Find more information on TFIDF here --> [Tfidf-Wikipedia](https://en.wikipedia.org/wiki/Tf%E2%80%93idf) and the code doc [here ](https://scikit-learn.org/stable/modules/generated/sklearn.feature_extraction.text.TfidfVectorizer.html). You could also use Tfidf word level that would vectorize your text splitting it by word instead of splitting it by group of letters\n",
        "- We vectorize each of the features `argument_name`, `function_code` and `dummy_feature`\n",
        "- We concatenate the vectors of the 3 features into one big vector that will be used in the next step in our model\n",
        "\n",
        "Tfidf is not the only method to vectorize text. You can use embeddings (word2vec, fasttext, ...), Countvectorizer and other methods. \n",
        "For this test, I advise you not to explore these other options except if you have a lot of time. Instead, you could play with the hyperparameters of tfidf or even try the tfidf word level"
      ]
    },
    {
      "cell_type": "code",
      "metadata": {
        "id": "J-ro0a9e-WyR"
      },
      "source": [
        "from sklearn.feature_extraction.text import TfidfVectorizer"
      ],
      "execution_count": null,
      "outputs": []
    },
    {
      "cell_type": "code",
      "metadata": {
        "id": "uJFJX5EdMyJL",
        "outputId": "8088334d-5a77-4e73-ce6a-3e073faf589a",
        "colab": {
          "base_uri": "https://localhost:8080/",
          "height": 293
        }
      },
      "source": [
        "import numpy as np\n",
        "\n",
        "def feature_vectorizer(col, nrange=(1,4)):\n",
        "  \"\"\"Instanciate a feature vectorizer\"\"\"\n",
        "  char_vectorizer = TfidfVectorizer(\n",
        "    strip_accents='unicode',\n",
        "    analyzer='char_wb',\n",
        "    ngram_range=nrange,\n",
        "    max_features=200,\n",
        "    )\n",
        "  char_vectorizer.fit(col)\n",
        "  return char_vectorizer\n",
        "\n",
        "# Dictionary of all vectorisers\n",
        "vectorizers = {\n",
        "    'function_code':  feature_vectorizer(df_train['function_code'], nrange=(3,5)),\n",
        "    'argument_name': feature_vectorizer(df_train['argument_name'], nrange=(1,3)),\n",
        "    'dummy_feature': feature_vectorizer(df_train['dummy_feature'], nrange=(2,4))\n",
        "}\n",
        "\n",
        "def vectorize_features(df):\n",
        "  \"\"\"Takes a dataset and create the X_vector by concatenating the vectors of all featurs\"\"\"\n",
        "  df['X_vector'] = df.apply(lambda row: np.concatenate([\n",
        "                              vectorizer.transform([row[data]]).toarray() for data, vectorizer in vectorizers.items()], axis=1)[0]\n",
        "                            , axis=1\n",
        "  )\n",
        "  return df\n",
        "\n",
        "df_train = vectorize_features(df_train)\n",
        "df_train.head()"
      ],
      "execution_count": null,
      "outputs": [
        {
          "output_type": "execute_result",
          "data": {
            "text/html": [
              "<div>\n",
              "<style scoped>\n",
              "    .dataframe tbody tr th:only-of-type {\n",
              "        vertical-align: middle;\n",
              "    }\n",
              "\n",
              "    .dataframe tbody tr th {\n",
              "        vertical-align: top;\n",
              "    }\n",
              "\n",
              "    .dataframe thead th {\n",
              "        text-align: right;\n",
              "    }\n",
              "</style>\n",
              "<table border=\"1\" class=\"dataframe\">\n",
              "  <thead>\n",
              "    <tr style=\"text-align: right;\">\n",
              "      <th></th>\n",
              "      <th>id</th>\n",
              "      <th>function_code</th>\n",
              "      <th>argument_name</th>\n",
              "      <th>argument_type</th>\n",
              "      <th>dummy_feature</th>\n",
              "      <th>X_vector</th>\n",
              "    </tr>\n",
              "  </thead>\n",
              "  <tbody>\n",
              "    <tr>\n",
              "      <th>0</th>\n",
              "      <td>0</td>\n",
              "      <td>function register(type, compressMode, backfill...</td>\n",
              "      <td>backfillLast</td>\n",
              "      <td>boolean</td>\n",
              "      <td></td>\n",
              "      <td>[0.0, 0.0, 0.0, 0.0, 0.07308017873249184, 0.0,...</td>\n",
              "    </tr>\n",
              "    <tr>\n",
              "      <th>1</th>\n",
              "      <td>1</td>\n",
              "      <td>function baseExtremum(array, iteratee, compara...</td>\n",
              "      <td>iteratee</td>\n",
              "      <td>function</td>\n",
              "      <td></td>\n",
              "      <td>[0.0, 0.0, 0.0, 0.0, 0.14947369377023104, 0.08...</td>\n",
              "    </tr>\n",
              "    <tr>\n",
              "      <th>2</th>\n",
              "      <td>2</td>\n",
              "      <td>function baseMergeDeep(object,source,key,srcIn...</td>\n",
              "      <td>key</td>\n",
              "      <td>string</td>\n",
              "      <td>,</td>\n",
              "      <td>[0.0, 0.0, 0.0, 0.0, 0.0, 0.0, 0.0, 0.0, 0.007...</td>\n",
              "    </tr>\n",
              "    <tr>\n",
              "      <th>3</th>\n",
              "      <td>3</td>\n",
              "      <td>function reorder(array, indexes) {\\n    var ar...</td>\n",
              "      <td>array</td>\n",
              "      <td>array</td>\n",
              "      <td></td>\n",
              "      <td>[0.0, 0.0, 0.0, 0.0, 0.07499323662725493, 0.0,...</td>\n",
              "    </tr>\n",
              "    <tr>\n",
              "      <th>4</th>\n",
              "      <td>4</td>\n",
              "      <td>function diffHalfMatchI(longtext, shorttext, i...</td>\n",
              "      <td>i</td>\n",
              "      <td>number</td>\n",
              "      <td>position</td>\n",
              "      <td>[0.017642548360458407, 0.08397613979998081, 0....</td>\n",
              "    </tr>\n",
              "  </tbody>\n",
              "</table>\n",
              "</div>"
            ],
            "text/plain": [
              "   id  ...                                           X_vector\n",
              "0   0  ...  [0.0, 0.0, 0.0, 0.0, 0.07308017873249184, 0.0,...\n",
              "1   1  ...  [0.0, 0.0, 0.0, 0.0, 0.14947369377023104, 0.08...\n",
              "2   2  ...  [0.0, 0.0, 0.0, 0.0, 0.0, 0.0, 0.0, 0.0, 0.007...\n",
              "3   3  ...  [0.0, 0.0, 0.0, 0.0, 0.07499323662725493, 0.0,...\n",
              "4   4  ...  [0.017642548360458407, 0.08397613979998081, 0....\n",
              "\n",
              "[5 rows x 6 columns]"
            ]
          },
          "metadata": {
            "tags": []
          },
          "execution_count": 9
        }
      ]
    },
    {
      "cell_type": "markdown",
      "metadata": {
        "id": "ruHX6_jsr9kb"
      },
      "source": [
        "# **Step4: Train and test your model**"
      ]
    },
    {
      "cell_type": "markdown",
      "metadata": {
        "id": "QSa2t0KILEms"
      },
      "source": [
        " #### In this step we will train our model on our vector and test its performances. We use a KNeighborsClassifier as a classifier but other models will definitely work better! Than we test our model on a subset of our dataset to see the performance of the model.\n",
        " Other classifiers you may use:\n",
        " - [AdaBoostClassifier](https://scikit-learn.org/stable/modules/generated/sklearn.ensemble.AdaBoostClassifier.html)\n",
        " - [SVM Classifier](https://scikit-learn.org/stable/modules/generated/sklearn.svm.SVC.html)\n",
        " -[ RandomForestClassifier](https://scikit-learn.org/stable/modules/generated/sklearn.ensemble.RandomForestClassifier.html)\n",
        " - [And others, feel free to search on the internet!](https://www.google.com/)\n",
        "\n",
        " The classifier is a model that will learn to predict a certain class (here the type of the parameter `argument_type`, so we have 6 classes) based on a vector `X_vector`.\n",
        " - In the first step the model learns to predict (this is the training) \n",
        " - In the second step we see how good it is at predicting by seeing its performance (here f1 score) on a test set.\n",
        " - While we are not satisfied by the performance on the test set, we can change the hyperparameters of the models and/or change the features and/or change the vectorizing method.\n",
        " - Once we are satisfied we have our model! There are many ways to test a classifier [Click here to learn more](https://towardsdatascience.com/machine-learning-classifiers-a5cc4e1b0623)."
      ]
    },
    {
      "cell_type": "markdown",
      "metadata": {
        "id": "O1_3SNSn0Prp"
      },
      "source": [
        "### Dependencies: If you want to use different models you will have to import them"
      ]
    },
    {
      "cell_type": "code",
      "metadata": {
        "id": "YjeFcVOg0UOi"
      },
      "source": [
        "from sklearn.neighbors import KNeighborsClassifier # Model\n",
        "from sklearn.model_selection import train_test_split # Split the dataset between a training and testing\n",
        "from sklearn.metrics import classification_report # Librairy that outputs the performance of the models, including the f1 score"
      ],
      "execution_count": null,
      "outputs": []
    },
    {
      "cell_type": "markdown",
      "metadata": {
        "id": "Kt5guy4q0c_P"
      },
      "source": [
        "### Split between a train and a test set"
      ]
    },
    {
      "cell_type": "code",
      "metadata": {
        "id": "OnlU5WI60iGj"
      },
      "source": [
        "X_train, X_test, y_train, y_test = train_test_split(df_train['X_vector'], df_train['argument_type'], test_size = 0.3, random_state=0, shuffle = True)\n",
        "\n",
        "X_train = np.array(X_train.tolist()) # Convert in a format for the classifier module to work\n",
        "X_test = np.array(X_test.tolist()) # Convert in a format for the classifier module to work\n",
        "y_train = np.array(y_train.tolist()) # Convert in a format for the classifier module to work\n",
        "y_test = np.array(y_test.tolist()) # Convert in a format for the classifier module to work"
      ],
      "execution_count": null,
      "outputs": []
    },
    {
      "cell_type": "markdown",
      "metadata": {
        "id": "Qp9JjGjt0riV"
      },
      "source": [
        "### Train your model"
      ]
    },
    {
      "cell_type": "code",
      "metadata": {
        "id": "QOaujwRYW8Ty",
        "outputId": "3819485d-5cf7-4b8c-b28f-c6114f496c05",
        "colab": {
          "base_uri": "https://localhost:8080/"
        }
      },
      "source": [
        "rf = KNeighborsClassifier()\n",
        "rf.fit(X_train, y_train) # Fit means train"
      ],
      "execution_count": null,
      "outputs": [
        {
          "output_type": "execute_result",
          "data": {
            "text/plain": [
              "KNeighborsClassifier(algorithm='auto', leaf_size=30, metric='minkowski',\n",
              "                     metric_params=None, n_jobs=None, n_neighbors=5, p=2,\n",
              "                     weights='uniform')"
            ]
          },
          "metadata": {
            "tags": []
          },
          "execution_count": 12
        }
      ]
    },
    {
      "cell_type": "markdown",
      "metadata": {
        "id": "aqhRQz2k2CFa"
      },
      "source": [
        "#### Congratulations, your model is trained! Now let's see how good it works with the dummy email function "
      ]
    },
    {
      "cell_type": "code",
      "metadata": {
        "id": "bTMszfLe2NaX",
        "outputId": "98eb1a5d-b716-41a7-92ff-6b8df4b442f3",
        "colab": {
          "base_uri": "https://localhost:8080/"
        }
      },
      "source": [
        "def predict_parameter_type(function_code, argument_name):\n",
        "  context = get_dummy_feature(function_code, argument_name)\n",
        "  df_parameter = pd.DataFrame(\n",
        "      {\n",
        "          'function_code': [function_code],\n",
        "          'argument_name': [argument_name],\n",
        "          'dummy_feature': [context]\n",
        "      }\n",
        "  )\n",
        "  df_parameter = vectorize_features(df_parameter)\n",
        "  X = np.array(df_parameter['X_vector'].tolist())\n",
        "  return rf.predict(X)\n",
        "\n",
        "function_code = \"\"\"\n",
        "  function dummyIsEmailValid(mail){\n",
        "    return mail.endsWith('.com') && mail.includes('@')\n",
        "}\"\"\"\n",
        "argument_name = \"mail\"\n",
        "prediction = predict_parameter_type(function_code, argument_name)[0]\n",
        "print('The type of parameter', argument_name, \n",
        "      'in the function\\n', function_code, \n",
        "      '\\nis classified by our classifier as', prediction)"
      ],
      "execution_count": null,
      "outputs": [
        {
          "output_type": "stream",
          "text": [
            "The type of parameter mail in the function\n",
            " \n",
            "  function dummyIsEmailValid(mail){\n",
            "    return mail.endsWith('.com') && mail.includes('@')\n",
            "} \n",
            "is classified by our classifier as string\n"
          ],
          "name": "stdout"
        }
      ]
    },
    {
      "cell_type": "markdown",
      "metadata": {
        "id": "BzQu3XSj56Cd"
      },
      "source": [
        "Congratulations, the prediction is string !!!"
      ]
    },
    {
      "cell_type": "markdown",
      "metadata": {
        "id": "In_mhAjw00af"
      },
      "source": [
        "### Test your model"
      ]
    },
    {
      "cell_type": "code",
      "metadata": {
        "id": "IggJTvAIeR0E",
        "outputId": "9d55e9a2-57cc-4285-af6f-33f3cf0682e6",
        "colab": {
          "base_uri": "https://localhost:8080/"
        }
      },
      "source": [
        "y_pred = rf.predict(X_test)\n",
        "report = classification_report(y_test, y_pred)\n",
        "print(report)"
      ],
      "execution_count": null,
      "outputs": [
        {
          "output_type": "stream",
          "text": [
            "              precision    recall  f1-score   support\n",
            "\n",
            "       array       0.82      0.79      0.80       189\n",
            "     boolean       0.62      0.46      0.53        71\n",
            "    function       0.82      0.91      0.86       182\n",
            "      number       0.83      0.83      0.83       372\n",
            "      object       0.79      0.79      0.79       440\n",
            "      string       0.81      0.83      0.82       546\n",
            "\n",
            "    accuracy                           0.81      1800\n",
            "   macro avg       0.78      0.77      0.77      1800\n",
            "weighted avg       0.81      0.81      0.81      1800\n",
            "\n"
          ],
          "name": "stdout"
        }
      ]
    },
    {
      "cell_type": "markdown",
      "metadata": {
        "id": "eK5BjMsR6BnZ"
      },
      "source": [
        "#### We can see pretty good results. accuracy is at 0.78 and f1-score at 0.77. If you test a different feature than the `dummy_feature` for step3 and different models for step4 you should be able to beat these performances by far (0.89 is largely doable).\n",
        "**Your results will be rated on f1-score macro avg. Here your mark would be 0.77**"
      ]
    },
    {
      "cell_type": "markdown",
      "metadata": {
        "id": "WNqqBR6osJwc"
      },
      "source": [
        "# **Step5:Submit dataset**"
      ]
    },
    {
      "cell_type": "markdown",
      "metadata": {
        "id": "5hCQUIJh3P8r"
      },
      "source": [
        "#### Upload the test set and open it"
      ]
    },
    {
      "cell_type": "code",
      "metadata": {
        "id": "mvi_RKFN3UZp"
      },
      "source": [
        "df_submission = open_set('./test_set.csv')"
      ],
      "execution_count": null,
      "outputs": []
    },
    {
      "cell_type": "code",
      "metadata": {
        "id": "LOV0gxLI2d6x",
        "outputId": "acc117f0-6148-4c9b-f193-9015a38706a1",
        "colab": {
          "base_uri": "https://localhost:8080/",
          "height": 206
        }
      },
      "source": [
        "df_submission.head()"
      ],
      "execution_count": null,
      "outputs": [
        {
          "output_type": "execute_result",
          "data": {
            "text/html": [
              "<div>\n",
              "<style scoped>\n",
              "    .dataframe tbody tr th:only-of-type {\n",
              "        vertical-align: middle;\n",
              "    }\n",
              "\n",
              "    .dataframe tbody tr th {\n",
              "        vertical-align: top;\n",
              "    }\n",
              "\n",
              "    .dataframe thead th {\n",
              "        text-align: right;\n",
              "    }\n",
              "</style>\n",
              "<table border=\"1\" class=\"dataframe\">\n",
              "  <thead>\n",
              "    <tr style=\"text-align: right;\">\n",
              "      <th></th>\n",
              "      <th>id</th>\n",
              "      <th>function_code</th>\n",
              "      <th>argument_name</th>\n",
              "      <th>argument_type</th>\n",
              "    </tr>\n",
              "  </thead>\n",
              "  <tbody>\n",
              "    <tr>\n",
              "      <th>0</th>\n",
              "      <td>0</td>\n",
              "      <td>function randInt(range) {\\n  return Math.rando...</td>\n",
              "      <td>range</td>\n",
              "      <td>NaN</td>\n",
              "    </tr>\n",
              "    <tr>\n",
              "      <th>1</th>\n",
              "      <td>1</td>\n",
              "      <td>function minBy(array, iteratee) {\\n      retur...</td>\n",
              "      <td>iteratee</td>\n",
              "      <td>NaN</td>\n",
              "    </tr>\n",
              "    <tr>\n",
              "      <th>2</th>\n",
              "      <td>2</td>\n",
              "      <td>function createCylinderVertices(radius, height...</td>\n",
              "      <td>radialSubdivisions</td>\n",
              "      <td>NaN</td>\n",
              "    </tr>\n",
              "    <tr>\n",
              "      <th>3</th>\n",
              "      <td>3</td>\n",
              "      <td>function loadStateData(data, loader, options)\\...</td>\n",
              "      <td>data</td>\n",
              "      <td>NaN</td>\n",
              "    </tr>\n",
              "    <tr>\n",
              "      <th>4</th>\n",
              "      <td>4</td>\n",
              "      <td>function process (oObject, oResourceBundle, iC...</td>\n",
              "      <td>oDataSources</td>\n",
              "      <td>NaN</td>\n",
              "    </tr>\n",
              "  </tbody>\n",
              "</table>\n",
              "</div>"
            ],
            "text/plain": [
              "   id  ... argument_type\n",
              "0   0  ...           NaN\n",
              "1   1  ...           NaN\n",
              "2   2  ...           NaN\n",
              "3   3  ...           NaN\n",
              "4   4  ...           NaN\n",
              "\n",
              "[5 rows x 4 columns]"
            ]
          },
          "metadata": {
            "tags": []
          },
          "execution_count": 16
        }
      ]
    },
    {
      "cell_type": "markdown",
      "metadata": {
        "id": "n-xcVIMF3d5g"
      },
      "source": [
        "#### Make your predictions on the dataframe submission"
      ]
    },
    {
      "cell_type": "code",
      "metadata": {
        "id": "X6Pf9-5S2IxI"
      },
      "source": [
        "df_submission['dummy_feature'] = df_submission.apply(lambda row: get_dummy_feature(row['function_code'], row['argument_name']), axis=1)\n",
        "df_submission = vectorize_features(df_submission)\n",
        "X_submission = df_submission['X_vector']\n",
        "X_submission = np.array(X_submission.tolist())\n",
        "predictions = rf.predict(X_submission)\n",
        "df_submission['argument_type'] = predictions"
      ],
      "execution_count": null,
      "outputs": []
    },
    {
      "cell_type": "markdown",
      "metadata": {
        "id": "Ink5H6LFq3wK"
      },
      "source": [
        "Now your predictions are in the `argument_type` column"
      ]
    },
    {
      "cell_type": "code",
      "metadata": {
        "id": "WLHRsjhk4719",
        "outputId": "4824e2ae-70f1-4c2f-e901-0e0a94e52c77",
        "colab": {
          "base_uri": "https://localhost:8080/",
          "height": 276
        }
      },
      "source": [
        "df_submission.head()"
      ],
      "execution_count": null,
      "outputs": [
        {
          "output_type": "execute_result",
          "data": {
            "text/html": [
              "<div>\n",
              "<style scoped>\n",
              "    .dataframe tbody tr th:only-of-type {\n",
              "        vertical-align: middle;\n",
              "    }\n",
              "\n",
              "    .dataframe tbody tr th {\n",
              "        vertical-align: top;\n",
              "    }\n",
              "\n",
              "    .dataframe thead th {\n",
              "        text-align: right;\n",
              "    }\n",
              "</style>\n",
              "<table border=\"1\" class=\"dataframe\">\n",
              "  <thead>\n",
              "    <tr style=\"text-align: right;\">\n",
              "      <th></th>\n",
              "      <th>id</th>\n",
              "      <th>function_code</th>\n",
              "      <th>argument_name</th>\n",
              "      <th>argument_type</th>\n",
              "      <th>dummy_feature</th>\n",
              "      <th>X_vector</th>\n",
              "    </tr>\n",
              "  </thead>\n",
              "  <tbody>\n",
              "    <tr>\n",
              "      <th>0</th>\n",
              "      <td>0</td>\n",
              "      <td>function randInt(range) {\\n  return Math.rando...</td>\n",
              "      <td>range</td>\n",
              "      <td>number</td>\n",
              "      <td>*</td>\n",
              "      <td>[0.38683497345829343, 0.0, 0.0, 0.0, 0.0, 0.0,...</td>\n",
              "    </tr>\n",
              "    <tr>\n",
              "      <th>1</th>\n",
              "      <td>1</td>\n",
              "      <td>function minBy(array, iteratee) {\\n      retur...</td>\n",
              "      <td>iteratee</td>\n",
              "      <td>function</td>\n",
              "      <td>(</td>\n",
              "      <td>[0.0, 0.0, 0.0, 0.0, 0.0, 0.0, 0.0, 0.0, 0.083...</td>\n",
              "    </tr>\n",
              "    <tr>\n",
              "      <th>2</th>\n",
              "      <td>2</td>\n",
              "      <td>function createCylinderVertices(radius, height...</td>\n",
              "      <td>radialSubdivisions</td>\n",
              "      <td>number</td>\n",
              "      <td></td>\n",
              "      <td>[0.0, 0.0, 0.0, 0.0, 0.0, 0.0, 0.0, 0.0, 0.0, ...</td>\n",
              "    </tr>\n",
              "    <tr>\n",
              "      <th>3</th>\n",
              "      <td>3</td>\n",
              "      <td>function loadStateData(data, loader, options)\\...</td>\n",
              "      <td>data</td>\n",
              "      <td>array</td>\n",
              "      <td>(</td>\n",
              "      <td>[0.0, 0.0, 0.16234115637134966, 0.165184848131...</td>\n",
              "    </tr>\n",
              "    <tr>\n",
              "      <th>4</th>\n",
              "      <td>4</td>\n",
              "      <td>function process (oObject, oResourceBundle, iC...</td>\n",
              "      <td>oDataSources</td>\n",
              "      <td>object</td>\n",
              "      <td></td>\n",
              "      <td>[0.0, 0.02859004385148536, 0.0, 0.0, 0.0345370...</td>\n",
              "    </tr>\n",
              "  </tbody>\n",
              "</table>\n",
              "</div>"
            ],
            "text/plain": [
              "   id  ...                                           X_vector\n",
              "0   0  ...  [0.38683497345829343, 0.0, 0.0, 0.0, 0.0, 0.0,...\n",
              "1   1  ...  [0.0, 0.0, 0.0, 0.0, 0.0, 0.0, 0.0, 0.0, 0.083...\n",
              "2   2  ...  [0.0, 0.0, 0.0, 0.0, 0.0, 0.0, 0.0, 0.0, 0.0, ...\n",
              "3   3  ...  [0.0, 0.0, 0.16234115637134966, 0.165184848131...\n",
              "4   4  ...  [0.0, 0.02859004385148536, 0.0, 0.0, 0.0345370...\n",
              "\n",
              "[5 rows x 6 columns]"
            ]
          },
          "metadata": {
            "tags": []
          },
          "execution_count": 18
        }
      ]
    },
    {
      "cell_type": "markdown",
      "metadata": {
        "id": "Gee99_IArLbQ"
      },
      "source": [
        "## Save your predictions and submit"
      ]
    },
    {
      "cell_type": "markdown",
      "metadata": {
        "id": "I09lGsGsr5Ke"
      },
      "source": [
        "**Reminder**\n",
        "As an output we'd like to have the following notebook with your complete functioning workflow and a result file on the Test set as a `.csv`\n",
        "\n",
        "Your file should incorporate four columns: \n",
        "- `id`: Row identifier of the test set sample\n",
        "- `argument_type`: Predicted type in [`string`, `boolean`, `number`, `array`, `object`, `function`]\n",
        "- `full_name`: Your full name, ex 'Jean Dupont'\n",
        "- `email`: Your email, ex 'jean.dupont@gmailcom'\n",
        "\n",
        "**Your results will be rated on the f1-score macro avg** \n"
      ]
    },
    {
      "cell_type": "code",
      "metadata": {
        "id": "RxXKEt3v5HIP",
        "outputId": "3e545caa-9f33-45ec-a4fc-a06d5992e09d",
        "colab": {
          "base_uri": "https://localhost:8080/",
          "height": 424
        }
      },
      "source": [
        "def save_submission(df_submission, full_name, email):\n",
        "  df_submission['full_name'] = full_name\n",
        "  df_submission['email'] = email\n",
        "  df_submission = df_submission[['full_name', 'email', 'id', 'argument_type']]\n",
        "  file_name = \"jean_dupont.csv\" # Here enter your filename following the conventions givent in the rules of challenge tab\n",
        "  df_submission.to_csv('jean_dupont.csv', sep=\",\")\n",
        "  return df_submission\n",
        "\n",
        "\n",
        "\n",
        "full_name =  'Jean Dupont'\n",
        "email = 'jean.dupont@gmail.com'\n",
        "save_submission(df_submission, full_name, email)"
      ],
      "execution_count": null,
      "outputs": [
        {
          "output_type": "execute_result",
          "data": {
            "text/html": [
              "<div>\n",
              "<style scoped>\n",
              "    .dataframe tbody tr th:only-of-type {\n",
              "        vertical-align: middle;\n",
              "    }\n",
              "\n",
              "    .dataframe tbody tr th {\n",
              "        vertical-align: top;\n",
              "    }\n",
              "\n",
              "    .dataframe thead th {\n",
              "        text-align: right;\n",
              "    }\n",
              "</style>\n",
              "<table border=\"1\" class=\"dataframe\">\n",
              "  <thead>\n",
              "    <tr style=\"text-align: right;\">\n",
              "      <th></th>\n",
              "      <th>full_name</th>\n",
              "      <th>email</th>\n",
              "      <th>id</th>\n",
              "      <th>argument_type</th>\n",
              "    </tr>\n",
              "  </thead>\n",
              "  <tbody>\n",
              "    <tr>\n",
              "      <th>0</th>\n",
              "      <td>Jean Dupont</td>\n",
              "      <td>jean.dupont@gmail.com</td>\n",
              "      <td>0</td>\n",
              "      <td>number</td>\n",
              "    </tr>\n",
              "    <tr>\n",
              "      <th>1</th>\n",
              "      <td>Jean Dupont</td>\n",
              "      <td>jean.dupont@gmail.com</td>\n",
              "      <td>1</td>\n",
              "      <td>function</td>\n",
              "    </tr>\n",
              "    <tr>\n",
              "      <th>2</th>\n",
              "      <td>Jean Dupont</td>\n",
              "      <td>jean.dupont@gmail.com</td>\n",
              "      <td>2</td>\n",
              "      <td>number</td>\n",
              "    </tr>\n",
              "    <tr>\n",
              "      <th>3</th>\n",
              "      <td>Jean Dupont</td>\n",
              "      <td>jean.dupont@gmail.com</td>\n",
              "      <td>3</td>\n",
              "      <td>array</td>\n",
              "    </tr>\n",
              "    <tr>\n",
              "      <th>4</th>\n",
              "      <td>Jean Dupont</td>\n",
              "      <td>jean.dupont@gmail.com</td>\n",
              "      <td>4</td>\n",
              "      <td>object</td>\n",
              "    </tr>\n",
              "    <tr>\n",
              "      <th>...</th>\n",
              "      <td>...</td>\n",
              "      <td>...</td>\n",
              "      <td>...</td>\n",
              "      <td>...</td>\n",
              "    </tr>\n",
              "    <tr>\n",
              "      <th>1562</th>\n",
              "      <td>Jean Dupont</td>\n",
              "      <td>jean.dupont@gmail.com</td>\n",
              "      <td>1562</td>\n",
              "      <td>number</td>\n",
              "    </tr>\n",
              "    <tr>\n",
              "      <th>1563</th>\n",
              "      <td>Jean Dupont</td>\n",
              "      <td>jean.dupont@gmail.com</td>\n",
              "      <td>1563</td>\n",
              "      <td>string</td>\n",
              "    </tr>\n",
              "    <tr>\n",
              "      <th>1564</th>\n",
              "      <td>Jean Dupont</td>\n",
              "      <td>jean.dupont@gmail.com</td>\n",
              "      <td>1564</td>\n",
              "      <td>object</td>\n",
              "    </tr>\n",
              "    <tr>\n",
              "      <th>1565</th>\n",
              "      <td>Jean Dupont</td>\n",
              "      <td>jean.dupont@gmail.com</td>\n",
              "      <td>1565</td>\n",
              "      <td>array</td>\n",
              "    </tr>\n",
              "    <tr>\n",
              "      <th>1566</th>\n",
              "      <td>Jean Dupont</td>\n",
              "      <td>jean.dupont@gmail.com</td>\n",
              "      <td>1566</td>\n",
              "      <td>object</td>\n",
              "    </tr>\n",
              "  </tbody>\n",
              "</table>\n",
              "<p>1567 rows × 4 columns</p>\n",
              "</div>"
            ],
            "text/plain": [
              "        full_name                  email    id argument_type\n",
              "0     Jean Dupont  jean.dupont@gmail.com     0        number\n",
              "1     Jean Dupont  jean.dupont@gmail.com     1      function\n",
              "2     Jean Dupont  jean.dupont@gmail.com     2        number\n",
              "3     Jean Dupont  jean.dupont@gmail.com     3         array\n",
              "4     Jean Dupont  jean.dupont@gmail.com     4        object\n",
              "...           ...                    ...   ...           ...\n",
              "1562  Jean Dupont  jean.dupont@gmail.com  1562        number\n",
              "1563  Jean Dupont  jean.dupont@gmail.com  1563        string\n",
              "1564  Jean Dupont  jean.dupont@gmail.com  1564        object\n",
              "1565  Jean Dupont  jean.dupont@gmail.com  1565         array\n",
              "1566  Jean Dupont  jean.dupont@gmail.com  1566        object\n",
              "\n",
              "[1567 rows x 4 columns]"
            ]
          },
          "metadata": {
            "tags": []
          },
          "execution_count": 19
        }
      ]
    },
    {
      "cell_type": "markdown",
      "metadata": {
        "id": "greyKOVAtY-s"
      },
      "source": [
        "**How do we submit our work?**\n",
        "- Download your results under **firstname_lastname.csv** and your notebook under **firstname_lastname.ipynb** (copy of your google colab file)\n",
        "- Go on Ponicode’s Slack Community and open a conversation with Edmond\n",
        "- Send to Edmond your csv **and** your ipynb files\n",
        "- If you are in groups of two, open a grouped conversation with Edmond and send your group files **firstname1_fistname2_lastname1_lastname2.csv** and .**ipynb**\n",
        "\n",
        "Thank you very much for doing the AI on code Ponicode challenge!"
      ]
    },
    {
      "cell_type": "code",
      "metadata": {
        "id": "E9dGvrZ5fzyK"
      },
      "source": [
        ""
      ],
      "execution_count": null,
      "outputs": []
    }
  ]
}